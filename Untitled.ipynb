{
 "cells": [
  {
   "cell_type": "code",
   "execution_count": 2,
   "id": "919dfd84",
   "metadata": {},
   "outputs": [],
   "source": [
    "import json\n",
    "import pandas as pd\n",
    "import numpy as np\n",
    "from fastparquet import write "
   ]
  },
  {
   "cell_type": "code",
   "execution_count": 3,
   "id": "1daf2ed0",
   "metadata": {},
   "outputs": [],
   "source": [
    "surtidores = pd.read_csv('data_try.csv', low_memory='off')\n",
    "df = pd.DataFrame(surtidores)"
   ]
  },
  {
   "cell_type": "code",
   "execution_count": 4,
   "id": "af0a6601",
   "metadata": {},
   "outputs": [],
   "source": [
    "filename = 'datos_pais.json'"
   ]
  },
  {
   "cell_type": "code",
   "execution_count": 5,
   "id": "a6c3ee17",
   "metadata": {},
   "outputs": [],
   "source": [
    "def lista(provincia_seleccionada):\n",
    "    provincias = df.groupby(df.provincia)\n",
    "    df_provincia = provincias.get_group(provincia_seleccionada)\n",
    "    total = calcular_total(df_provincia)\n",
    "    for_json = {'provincia':provincia_seleccionada, 'total':total}\n",
    "    \n",
    "    return for_json"
   ]
  },
  {
   "cell_type": "code",
   "execution_count": 6,
   "id": "52475916",
   "metadata": {},
   "outputs": [],
   "source": [
    "def calcular_total(df_selecionado):\n",
    "    a = np.array(df_selecionado['Volumen'])\n",
    "    a = np.sum(a)\n",
    "    a = int(a.round(0))\n",
    "    \n",
    "    return a"
   ]
  },
  {
   "cell_type": "code",
   "execution_count": 7,
   "id": "c9acf94e",
   "metadata": {},
   "outputs": [],
   "source": [
    "la_pampa = lista('LA PAMPA')"
   ]
  },
  {
   "cell_type": "code",
   "execution_count": 8,
   "id": "5ae7daad",
   "metadata": {},
   "outputs": [],
   "source": [
    "tdf = lista('TIERRA DEL FUEGO')"
   ]
  },
  {
   "cell_type": "code",
   "execution_count": 9,
   "id": "389821ab",
   "metadata": {},
   "outputs": [],
   "source": [
    "santa_cruz = lista('SANTA CRUZ')"
   ]
  },
  {
   "cell_type": "code",
   "execution_count": 10,
   "id": "42e1c9b3",
   "metadata": {},
   "outputs": [],
   "source": [
    "chubut = lista('CHUBUT')"
   ]
  },
  {
   "cell_type": "code",
   "execution_count": 11,
   "id": "94bdcbdd",
   "metadata": {},
   "outputs": [],
   "source": [
    "rio_negro = lista('RIO NEGRO')"
   ]
  },
  {
   "cell_type": "code",
   "execution_count": 12,
   "id": "8cbcd667",
   "metadata": {},
   "outputs": [],
   "source": [
    "neuquen = lista('NEUQUEN')"
   ]
  },
  {
   "cell_type": "code",
   "execution_count": 13,
   "id": "df7f3db6",
   "metadata": {},
   "outputs": [],
   "source": [
    "bsas = lista('BUENOS AIRES')"
   ]
  },
  {
   "cell_type": "code",
   "execution_count": 14,
   "id": "a621b144",
   "metadata": {},
   "outputs": [],
   "source": [
    "bsas_capital = lista('CAPITAL FEDERAL')"
   ]
  },
  {
   "cell_type": "code",
   "execution_count": 15,
   "id": "27090932",
   "metadata": {},
   "outputs": [],
   "source": [
    "mendoza = lista('MENDOZA')"
   ]
  },
  {
   "cell_type": "code",
   "execution_count": 16,
   "id": "22d21586",
   "metadata": {},
   "outputs": [],
   "source": [
    "san_luis = lista('SAN LUIS')"
   ]
  },
  {
   "cell_type": "code",
   "execution_count": 17,
   "id": "248a7e9e",
   "metadata": {},
   "outputs": [],
   "source": [
    "cordoba = lista('CORDOBA')"
   ]
  },
  {
   "cell_type": "code",
   "execution_count": 18,
   "id": "12d2bae7",
   "metadata": {},
   "outputs": [],
   "source": [
    "santa_fe = lista('SANTA FE')"
   ]
  },
  {
   "cell_type": "code",
   "execution_count": 19,
   "id": "54a2feea",
   "metadata": {},
   "outputs": [],
   "source": [
    "entre_rios = lista('ENTRE RIOS')"
   ]
  },
  {
   "cell_type": "code",
   "execution_count": 20,
   "id": "283d43e6",
   "metadata": {},
   "outputs": [],
   "source": [
    "corrientes = lista('CORRIENTES')"
   ]
  },
  {
   "cell_type": "code",
   "execution_count": 21,
   "id": "784b06d9",
   "metadata": {},
   "outputs": [],
   "source": [
    "misiones = lista('MISIONES')"
   ]
  },
  {
   "cell_type": "code",
   "execution_count": 22,
   "id": "34cc625f",
   "metadata": {},
   "outputs": [],
   "source": [
    "san_juan = lista('SAN JUAN')"
   ]
  },
  {
   "cell_type": "code",
   "execution_count": 23,
   "id": "4e67515d",
   "metadata": {},
   "outputs": [],
   "source": [
    "la_rioja = lista('LA RIOJA')"
   ]
  },
  {
   "cell_type": "code",
   "execution_count": 24,
   "id": "9f7039d4",
   "metadata": {},
   "outputs": [],
   "source": [
    "catamarca = lista('CATAMARCA')"
   ]
  },
  {
   "cell_type": "code",
   "execution_count": 25,
   "id": "ca36513f",
   "metadata": {},
   "outputs": [],
   "source": [
    "tucuman = lista('TUCUMAN')"
   ]
  },
  {
   "cell_type": "code",
   "execution_count": 26,
   "id": "b03e7835",
   "metadata": {},
   "outputs": [],
   "source": [
    "salta = lista('SALTA')"
   ]
  },
  {
   "cell_type": "code",
   "execution_count": 27,
   "id": "0e99dbf8",
   "metadata": {},
   "outputs": [],
   "source": [
    "santiago_estero = lista('SANTIAGO DEL ESTERO')"
   ]
  },
  {
   "cell_type": "code",
   "execution_count": 28,
   "id": "3f7da844",
   "metadata": {},
   "outputs": [],
   "source": [
    "chaco = lista('CHACO')"
   ]
  },
  {
   "cell_type": "code",
   "execution_count": 29,
   "id": "2fc43800",
   "metadata": {},
   "outputs": [],
   "source": [
    "jujuy = lista('JUJUY')"
   ]
  },
  {
   "cell_type": "code",
   "execution_count": 30,
   "id": "706a7c22",
   "metadata": {},
   "outputs": [],
   "source": [
    "formosa = lista('FORMOSA')"
   ]
  },
  {
   "cell_type": "code",
   "execution_count": 31,
   "id": "29aac7ac",
   "metadata": {},
   "outputs": [],
   "source": [
    "lista_total = [la_pampa, tdf, santa_cruz, chubut, rio_negro, neuquen, bsas,bsas_capital, mendoza, san_luis, cordoba, santa_fe, entre_rios, corrientes, misiones, la_rioja, catamarca, tucuman, salta, santiago_estero, chaco, formosa, san_juan, jujuy]"
   ]
  },
  {
   "cell_type": "code",
   "execution_count": 32,
   "id": "aed66a8f",
   "metadata": {},
   "outputs": [],
   "source": [
    "df_total = pd.DataFrame(lista_total)"
   ]
  },
  {
   "cell_type": "code",
   "execution_count": 34,
   "id": "5c28ccf4",
   "metadata": {},
   "outputs": [],
   "source": [
    "write('outfile.parquet', df_total)"
   ]
  }
 ],
 "metadata": {
  "kernelspec": {
   "display_name": "Python 3 (ipykernel)",
   "language": "python",
   "name": "python3"
  },
  "language_info": {
   "codemirror_mode": {
    "name": "ipython",
    "version": 3
   },
   "file_extension": ".py",
   "mimetype": "text/x-python",
   "name": "python",
   "nbconvert_exporter": "python",
   "pygments_lexer": "ipython3",
   "version": "3.10.7"
  },
  "toc": {
   "base_numbering": 1,
   "nav_menu": {},
   "number_sections": true,
   "sideBar": true,
   "skip_h1_title": false,
   "title_cell": "Table of Contents",
   "title_sidebar": "Contents",
   "toc_cell": false,
   "toc_position": {},
   "toc_section_display": true,
   "toc_window_display": false
  }
 },
 "nbformat": 4,
 "nbformat_minor": 5
}
